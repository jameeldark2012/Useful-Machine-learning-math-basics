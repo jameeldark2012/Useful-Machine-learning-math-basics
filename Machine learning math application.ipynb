{
 "cells": [
  {
   "cell_type": "code",
   "execution_count": 1,
   "id": "1b9246f0",
   "metadata": {},
   "outputs": [
    {
     "data": {
      "text/html": [
       "<div>\n",
       "<style scoped>\n",
       "    .dataframe tbody tr th:only-of-type {\n",
       "        vertical-align: middle;\n",
       "    }\n",
       "\n",
       "    .dataframe tbody tr th {\n",
       "        vertical-align: top;\n",
       "    }\n",
       "\n",
       "    .dataframe thead th {\n",
       "        text-align: right;\n",
       "    }\n",
       "</style>\n",
       "<table border=\"1\" class=\"dataframe\">\n",
       "  <thead>\n",
       "    <tr style=\"text-align: right;\">\n",
       "      <th></th>\n",
       "      <th>sepal length (cm)</th>\n",
       "      <th>sepal width (cm)</th>\n",
       "      <th>petal length (cm)</th>\n",
       "      <th>petal width (cm)</th>\n",
       "      <th>classs</th>\n",
       "    </tr>\n",
       "  </thead>\n",
       "  <tbody>\n",
       "    <tr>\n",
       "      <th>0</th>\n",
       "      <td>5.1</td>\n",
       "      <td>3.5</td>\n",
       "      <td>1.4</td>\n",
       "      <td>0.2</td>\n",
       "      <td>0</td>\n",
       "    </tr>\n",
       "    <tr>\n",
       "      <th>1</th>\n",
       "      <td>4.9</td>\n",
       "      <td>3.0</td>\n",
       "      <td>1.4</td>\n",
       "      <td>0.2</td>\n",
       "      <td>0</td>\n",
       "    </tr>\n",
       "    <tr>\n",
       "      <th>2</th>\n",
       "      <td>4.7</td>\n",
       "      <td>3.2</td>\n",
       "      <td>1.3</td>\n",
       "      <td>0.2</td>\n",
       "      <td>0</td>\n",
       "    </tr>\n",
       "    <tr>\n",
       "      <th>3</th>\n",
       "      <td>4.6</td>\n",
       "      <td>3.1</td>\n",
       "      <td>1.5</td>\n",
       "      <td>0.2</td>\n",
       "      <td>0</td>\n",
       "    </tr>\n",
       "    <tr>\n",
       "      <th>4</th>\n",
       "      <td>5.0</td>\n",
       "      <td>3.6</td>\n",
       "      <td>1.4</td>\n",
       "      <td>0.2</td>\n",
       "      <td>0</td>\n",
       "    </tr>\n",
       "    <tr>\n",
       "      <th>...</th>\n",
       "      <td>...</td>\n",
       "      <td>...</td>\n",
       "      <td>...</td>\n",
       "      <td>...</td>\n",
       "      <td>...</td>\n",
       "    </tr>\n",
       "    <tr>\n",
       "      <th>145</th>\n",
       "      <td>6.7</td>\n",
       "      <td>3.0</td>\n",
       "      <td>5.2</td>\n",
       "      <td>2.3</td>\n",
       "      <td>2</td>\n",
       "    </tr>\n",
       "    <tr>\n",
       "      <th>146</th>\n",
       "      <td>6.3</td>\n",
       "      <td>2.5</td>\n",
       "      <td>5.0</td>\n",
       "      <td>1.9</td>\n",
       "      <td>2</td>\n",
       "    </tr>\n",
       "    <tr>\n",
       "      <th>147</th>\n",
       "      <td>6.5</td>\n",
       "      <td>3.0</td>\n",
       "      <td>5.2</td>\n",
       "      <td>2.0</td>\n",
       "      <td>2</td>\n",
       "    </tr>\n",
       "    <tr>\n",
       "      <th>148</th>\n",
       "      <td>6.2</td>\n",
       "      <td>3.4</td>\n",
       "      <td>5.4</td>\n",
       "      <td>2.3</td>\n",
       "      <td>2</td>\n",
       "    </tr>\n",
       "    <tr>\n",
       "      <th>149</th>\n",
       "      <td>5.9</td>\n",
       "      <td>3.0</td>\n",
       "      <td>5.1</td>\n",
       "      <td>1.8</td>\n",
       "      <td>2</td>\n",
       "    </tr>\n",
       "  </tbody>\n",
       "</table>\n",
       "<p>150 rows × 5 columns</p>\n",
       "</div>"
      ],
      "text/plain": [
       "     sepal length (cm)  sepal width (cm)  petal length (cm)  petal width (cm)   \n",
       "0                  5.1               3.5                1.4               0.2  \\\n",
       "1                  4.9               3.0                1.4               0.2   \n",
       "2                  4.7               3.2                1.3               0.2   \n",
       "3                  4.6               3.1                1.5               0.2   \n",
       "4                  5.0               3.6                1.4               0.2   \n",
       "..                 ...               ...                ...               ...   \n",
       "145                6.7               3.0                5.2               2.3   \n",
       "146                6.3               2.5                5.0               1.9   \n",
       "147                6.5               3.0                5.2               2.0   \n",
       "148                6.2               3.4                5.4               2.3   \n",
       "149                5.9               3.0                5.1               1.8   \n",
       "\n",
       "     classs  \n",
       "0         0  \n",
       "1         0  \n",
       "2         0  \n",
       "3         0  \n",
       "4         0  \n",
       "..      ...  \n",
       "145       2  \n",
       "146       2  \n",
       "147       2  \n",
       "148       2  \n",
       "149       2  \n",
       "\n",
       "[150 rows x 5 columns]"
      ]
     },
     "execution_count": 1,
     "metadata": {},
     "output_type": "execute_result"
    }
   ],
   "source": [
    "import matplotlib.pyplot as plt\n",
    "from sklearn.datasets import load_iris\n",
    "import pandas as pd\n",
    "from copy import copy\n",
    "import numpy as np\n",
    "import sympy as sp\n",
    "from scipy.stats import rv_discrete\n",
    "import scipy.integrate as spi\n",
    "from scipy.stats import entropy\n",
    "import math\n",
    "import scipy.stats as stats\n",
    "from scipy.stats import ttest_1samp\n",
    "\n",
    "\n",
    "iris = load_iris()\n",
    "\n",
    "dataset = pd.DataFrame(data=iris.data, columns=iris.feature_names)\n",
    "dataset['classs'] = iris.target\n",
    "\n",
    "dataset"
   ]
  },
  {
   "cell_type": "code",
   "execution_count": 2,
   "id": "c9e78f22",
   "metadata": {},
   "outputs": [
    {
     "data": {
      "image/png": "[encoded data removed]",
      "text/plain": [
       "<Figure size 640x480 with 1 Axes>"
      ]
     },
     "metadata": {},
     "output_type": "display_data"
    }
   ],
   "source": [
    "class_freq = dataset[\"classs\"].value_counts()\n",
    "\n",
    "class_freq_df = pd.DataFrame({\n",
    "    \"classs\": class_freq.index,\n",
    "    \"freq\": class_freq.values\n",
    "})\n",
    "\n",
    "prob = class_freq_df[\"freq\"] / len(dataset)\n",
    "\n",
    "class_freq_df[\"prob\"] = prob\n",
    "\n",
    "plt.bar(class_freq_df[\"classs\"].values, class_freq_df[\"prob\"].values)\n",
    "plt.xticks(range(len(class_freq_df)), class_freq_df[\"classs\"].values)\n",
    "plt.xlabel(\"Class\")\n",
    "plt.ylabel(\"Probability\")\n",
    "plt.title(\"Probability Mass Function of Iris Dataset\")\n",
    "plt.show()"
   ]
  },
  {
   "cell_type": "code",
   "execution_count": 3,
   "id": "12b584fb",
   "metadata": {},
   "outputs": [],
   "source": [
    "CDF = class_freq_df.cumsum()\n",
    "CDF[\"classs\"] = class_freq_df[\"classs\"]\n",
    "CDF[\"freq\"] = class_freq_df[\"freq\"]"
   ]
  },
  {
   "cell_type": "code",
   "execution_count": 4,
   "id": "431e0f8a",
   "metadata": {},
   "outputs": [
    {
     "data": {
      "text/html": [
       "<div>\n",
       "<style scoped>\n",
       "    .dataframe tbody tr th:only-of-type {\n",
       "        vertical-align: middle;\n",
       "    }\n",
       "\n",
       "    .dataframe tbody tr th {\n",
       "        vertical-align: top;\n",
       "    }\n",
       "\n",
       "    .dataframe thead th {\n",
       "        text-align: right;\n",
       "    }\n",
       "</style>\n",
       "<table border=\"1\" class=\"dataframe\">\n",
       "  <thead>\n",
       "    <tr style=\"text-align: right;\">\n",
       "      <th></th>\n",
       "      <th>classs</th>\n",
       "      <th>freq</th>\n",
       "      <th>prob</th>\n",
       "    </tr>\n",
       "  </thead>\n",
       "  <tbody>\n",
       "    <tr>\n",
       "      <th>0</th>\n",
       "      <td>0</td>\n",
       "      <td>50</td>\n",
       "      <td>0.333333</td>\n",
       "    </tr>\n",
       "    <tr>\n",
       "      <th>1</th>\n",
       "      <td>1</td>\n",
       "      <td>50</td>\n",
       "      <td>0.666667</td>\n",
       "    </tr>\n",
       "    <tr>\n",
       "      <th>2</th>\n",
       "      <td>2</td>\n",
       "      <td>50</td>\n",
       "      <td>1.000000</td>\n",
       "    </tr>\n",
       "  </tbody>\n",
       "</table>\n",
       "</div>"
      ],
      "text/plain": [
       "   classs  freq      prob\n",
       "0       0    50  0.333333\n",
       "1       1    50  0.666667\n",
       "2       2    50  1.000000"
      ]
     },
     "execution_count": 4,
     "metadata": {},
     "output_type": "execute_result"
    }
   ],
   "source": [
    "CDF"
   ]
  },
  {
   "cell_type": "code",
   "execution_count": 5,
   "id": "83dc939d",
   "metadata": {},
   "outputs": [
    {
     "data": {
      "image/png": "[encoded data removed]",
      "text/plain": [
       "<Figure size 640x480 with 1 Axes>"
      ]
     },
     "metadata": {},
     "output_type": "display_data"
    }
   ],
   "source": [
    "plt.bar(CDF[\"classs\"].values, CDF[\"prob\"].values)\n",
    "plt.xticks(range(len(CDF)), CDF[\"classs\"].values)\n",
    "plt.xlabel(\"Class\")\n",
    "plt.ylabel(\"Probability\")\n",
    "plt.title(\"Probabilty Cumulative Function \")\n",
    "plt.show()"
   ]
  },
  {
   "cell_type": "code",
   "execution_count": 6,
   "id": "eb1f7b2f",
   "metadata": {},
   "outputs": [
    {
     "data": {
      "text/plain": [
       "<function matplotlib.pyplot.scatter(x, y, s=None, c=None, marker=None, cmap=None, norm=None, vmin=None, vmax=None, alpha=None, linewidths=None, *, edgecolors=None, plotnonfinite=False, data=None, **kwargs)>"
      ]
     },
     "execution_count": 6,
     "metadata": {},
     "output_type": "execute_result"
    }
   ],
   "source": [
    "plt.scatter"
   ]
  },
  {
   "cell_type": "code",
   "execution_count": 7,
   "id": "7c2f7825",
   "metadata": {},
   "outputs": [
    {
     "data": {
      "text/plain": [
       "Text(0.5, 1.0, 'Estimation of PDF')"
      ]
     },
     "execution_count": 7,
     "metadata": {},
     "output_type": "execute_result"
    },
    {
     "data": {
      "image/png": "[encoded data removed]",
      "text/plain": [
       "<Figure size 640x480 with 1 Axes>"
      ]
     },
     "metadata": {},
     "output_type": "display_data"
    }
   ],
   "source": [
    "plt.hist(dataset['sepal length (cm)'], bins=30, density=True)\n",
    "plt.xlabel(\"sapal length cm)\")\n",
    "plt.ylabel(\"probablities\")\n",
    "plt.title(\"Estimation of PDF\")"
   ]
  },
  {
   "cell_type": "markdown",
   "id": "d8e214ad",
   "metadata": {},
   "source": [
    "## Dot Product"
   ]
  },
  {
   "cell_type": "code",
   "execution_count": 8,
   "id": "622ee13f",
   "metadata": {},
   "outputs": [
    {
     "data": {
      "text/html": [
       "<div>\n",
       "<style scoped>\n",
       "    .dataframe tbody tr th:only-of-type {\n",
       "        vertical-align: middle;\n",
       "    }\n",
       "\n",
       "    .dataframe tbody tr th {\n",
       "        vertical-align: top;\n",
       "    }\n",
       "\n",
       "    .dataframe thead th {\n",
       "        text-align: right;\n",
       "    }\n",
       "</style>\n",
       "<table border=\"1\" class=\"dataframe\">\n",
       "  <thead>\n",
       "    <tr style=\"text-align: right;\">\n",
       "      <th></th>\n",
       "      <th>sepal length (cm)</th>\n",
       "      <th>sepal width (cm)</th>\n",
       "      <th>petal length (cm)</th>\n",
       "      <th>petal width (cm)</th>\n",
       "      <th>classs</th>\n",
       "    </tr>\n",
       "  </thead>\n",
       "  <tbody>\n",
       "    <tr>\n",
       "      <th>0</th>\n",
       "      <td>5.1</td>\n",
       "      <td>3.5</td>\n",
       "      <td>1.4</td>\n",
       "      <td>0.2</td>\n",
       "      <td>0</td>\n",
       "    </tr>\n",
       "    <tr>\n",
       "      <th>1</th>\n",
       "      <td>4.9</td>\n",
       "      <td>3.0</td>\n",
       "      <td>1.4</td>\n",
       "      <td>0.2</td>\n",
       "      <td>0</td>\n",
       "    </tr>\n",
       "    <tr>\n",
       "      <th>2</th>\n",
       "      <td>4.7</td>\n",
       "      <td>3.2</td>\n",
       "      <td>1.3</td>\n",
       "      <td>0.2</td>\n",
       "      <td>0</td>\n",
       "    </tr>\n",
       "    <tr>\n",
       "      <th>3</th>\n",
       "      <td>4.6</td>\n",
       "      <td>3.1</td>\n",
       "      <td>1.5</td>\n",
       "      <td>0.2</td>\n",
       "      <td>0</td>\n",
       "    </tr>\n",
       "    <tr>\n",
       "      <th>4</th>\n",
       "      <td>5.0</td>\n",
       "      <td>3.6</td>\n",
       "      <td>1.4</td>\n",
       "      <td>0.2</td>\n",
       "      <td>0</td>\n",
       "    </tr>\n",
       "    <tr>\n",
       "      <th>...</th>\n",
       "      <td>...</td>\n",
       "      <td>...</td>\n",
       "      <td>...</td>\n",
       "      <td>...</td>\n",
       "      <td>...</td>\n",
       "    </tr>\n",
       "    <tr>\n",
       "      <th>145</th>\n",
       "      <td>6.7</td>\n",
       "      <td>3.0</td>\n",
       "      <td>5.2</td>\n",
       "      <td>2.3</td>\n",
       "      <td>2</td>\n",
       "    </tr>\n",
       "    <tr>\n",
       "      <th>146</th>\n",
       "      <td>6.3</td>\n",
       "      <td>2.5</td>\n",
       "      <td>5.0</td>\n",
       "      <td>1.9</td>\n",
       "      <td>2</td>\n",
       "    </tr>\n",
       "    <tr>\n",
       "      <th>147</th>\n",
       "      <td>6.5</td>\n",
       "      <td>3.0</td>\n",
       "      <td>5.2</td>\n",
       "      <td>2.0</td>\n",
       "      <td>2</td>\n",
       "    </tr>\n",
       "    <tr>\n",
       "      <th>148</th>\n",
       "      <td>6.2</td>\n",
       "      <td>3.4</td>\n",
       "      <td>5.4</td>\n",
       "      <td>2.3</td>\n",
       "      <td>2</td>\n",
       "    </tr>\n",
       "    <tr>\n",
       "      <th>149</th>\n",
       "      <td>5.9</td>\n",
       "      <td>3.0</td>\n",
       "      <td>5.1</td>\n",
       "      <td>1.8</td>\n",
       "      <td>2</td>\n",
       "    </tr>\n",
       "  </tbody>\n",
       "</table>\n",
       "<p>150 rows × 5 columns</p>\n",
       "</div>"
      ],
      "text/plain": [
       "     sepal length (cm)  sepal width (cm)  petal length (cm)  petal width (cm)   \n",
       "0                  5.1               3.5                1.4               0.2  \\\n",
       "1                  4.9               3.0                1.4               0.2   \n",
       "2                  4.7               3.2                1.3               0.2   \n",
       "3                  4.6               3.1                1.5               0.2   \n",
       "4                  5.0               3.6                1.4               0.2   \n",
       "..                 ...               ...                ...               ...   \n",
       "145                6.7               3.0                5.2               2.3   \n",
       "146                6.3               2.5                5.0               1.9   \n",
       "147                6.5               3.0                5.2               2.0   \n",
       "148                6.2               3.4                5.4               2.3   \n",
       "149                5.9               3.0                5.1               1.8   \n",
       "\n",
       "     classs  \n",
       "0         0  \n",
       "1         0  \n",
       "2         0  \n",
       "3         0  \n",
       "4         0  \n",
       "..      ...  \n",
       "145       2  \n",
       "146       2  \n",
       "147       2  \n",
       "148       2  \n",
       "149       2  \n",
       "\n",
       "[150 rows x 5 columns]"
      ]
     },
     "execution_count": 8,
     "metadata": {},
     "output_type": "execute_result"
    }
   ],
   "source": [
    "dataset"
   ]
  },
  {
   "cell_type": "code",
   "execution_count": 9,
   "id": "1c650335",
   "metadata": {},
   "outputs": [
    {
     "data": {
      "text/plain": [
       "1128.14"
      ]
     },
     "execution_count": 9,
     "metadata": {},
     "output_type": "execute_result"
    }
   ],
   "source": [
    "dataset[\"sepal length (cm)\"].dot(dataset[\"petal width (cm)\"])"
   ]
  },
  {
   "cell_type": "markdown",
   "id": "83de81e1",
   "metadata": {},
   "source": [
    "## Vector simple operation"
   ]
  },
  {
   "cell_type": "code",
   "execution_count": 10,
   "id": "63514b58",
   "metadata": {},
   "outputs": [
    {
     "data": {
      "text/plain": [
       "0      5.3\n",
       "1      5.1\n",
       "2      4.9\n",
       "3      4.8\n",
       "4      5.2\n",
       "      ... \n",
       "145    9.0\n",
       "146    8.2\n",
       "147    8.5\n",
       "148    8.5\n",
       "149    7.7\n",
       "Length: 150, dtype: float64"
      ]
     },
     "execution_count": 10,
     "metadata": {},
     "output_type": "execute_result"
    }
   ],
   "source": [
    "dataset[\"sepal length (cm)\"].add(dataset[\"petal width (cm)\"])"
   ]
  },
  {
   "cell_type": "markdown",
   "id": "339eb724",
   "metadata": {},
   "source": [
    "## Visualizing vectors"
   ]
  },
  {
   "cell_type": "code",
   "execution_count": 11,
   "id": "f02148eb",
   "metadata": {},
   "outputs": [
    {
     "data": {
      "text/plain": [
       "<matplotlib.patches.FancyArrow at 0x1f9ee4d2940>"
      ]
     },
     "execution_count": 11,
     "metadata": {},
     "output_type": "execute_result"
    },
    {
     "data": {
      "image/png": "[encoded data removed]",
      "text/plain": [
       "<Figure size 640x480 with 1 Axes>"
      ]
     },
     "metadata": {},
     "output_type": "display_data"
    }
   ],
   "source": [
    "fig, ax = plt.subplots()\n",
    "ax.arrow(0, 0, dataset['sepal length (cm)'][0], dataset['petal width (cm)'][0], head_width=0.01, head_length=0.1, fc='blue', ec='blue')\n",
    "\n"
   ]
  },
  {
   "cell_type": "markdown",
   "id": "f510372b",
   "metadata": {},
   "source": [
    "## Simple transformation"
   ]
  },
  {
   "cell_type": "code",
   "execution_count": 12,
   "id": "5bcd91cf",
   "metadata": {},
   "outputs": [
    {
     "data": {
      "text/html": [
       "<div>\n",
       "<style scoped>\n",
       "    .dataframe tbody tr th:only-of-type {\n",
       "        vertical-align: middle;\n",
       "    }\n",
       "\n",
       "    .dataframe tbody tr th {\n",
       "        vertical-align: top;\n",
       "    }\n",
       "\n",
       "    .dataframe thead th {\n",
       "        text-align: right;\n",
       "    }\n",
       "</style>\n",
       "<table border=\"1\" class=\"dataframe\">\n",
       "  <thead>\n",
       "    <tr style=\"text-align: right;\">\n",
       "      <th></th>\n",
       "      <th>sepal length (cm)</th>\n",
       "      <th>petal width (cm)</th>\n",
       "    </tr>\n",
       "  </thead>\n",
       "  <tbody>\n",
       "    <tr>\n",
       "      <th>0</th>\n",
       "      <td>5.1</td>\n",
       "      <td>0.2</td>\n",
       "    </tr>\n",
       "    <tr>\n",
       "      <th>1</th>\n",
       "      <td>4.9</td>\n",
       "      <td>0.2</td>\n",
       "    </tr>\n",
       "    <tr>\n",
       "      <th>2</th>\n",
       "      <td>4.7</td>\n",
       "      <td>0.2</td>\n",
       "    </tr>\n",
       "    <tr>\n",
       "      <th>3</th>\n",
       "      <td>4.6</td>\n",
       "      <td>0.2</td>\n",
       "    </tr>\n",
       "    <tr>\n",
       "      <th>4</th>\n",
       "      <td>5.0</td>\n",
       "      <td>0.2</td>\n",
       "    </tr>\n",
       "    <tr>\n",
       "      <th>...</th>\n",
       "      <td>...</td>\n",
       "      <td>...</td>\n",
       "    </tr>\n",
       "    <tr>\n",
       "      <th>145</th>\n",
       "      <td>6.7</td>\n",
       "      <td>2.3</td>\n",
       "    </tr>\n",
       "    <tr>\n",
       "      <th>146</th>\n",
       "      <td>6.3</td>\n",
       "      <td>1.9</td>\n",
       "    </tr>\n",
       "    <tr>\n",
       "      <th>147</th>\n",
       "      <td>6.5</td>\n",
       "      <td>2.0</td>\n",
       "    </tr>\n",
       "    <tr>\n",
       "      <th>148</th>\n",
       "      <td>6.2</td>\n",
       "      <td>2.3</td>\n",
       "    </tr>\n",
       "    <tr>\n",
       "      <th>149</th>\n",
       "      <td>5.9</td>\n",
       "      <td>1.8</td>\n",
       "    </tr>\n",
       "  </tbody>\n",
       "</table>\n",
       "<p>150 rows × 2 columns</p>\n",
       "</div>"
      ],
      "text/plain": [
       "     sepal length (cm)  petal width (cm)\n",
       "0                  5.1               0.2\n",
       "1                  4.9               0.2\n",
       "2                  4.7               0.2\n",
       "3                  4.6               0.2\n",
       "4                  5.0               0.2\n",
       "..                 ...               ...\n",
       "145                6.7               2.3\n",
       "146                6.3               1.9\n",
       "147                6.5               2.0\n",
       "148                6.2               2.3\n",
       "149                5.9               1.8\n",
       "\n",
       "[150 rows x 2 columns]"
      ]
     },
     "execution_count": 12,
     "metadata": {},
     "output_type": "execute_result"
    }
   ],
   "source": [
    "vector = dataset[[\"sepal length (cm)\" ,'petal width (cm)' ]]\n",
    "vector"
   ]
  },
  {
   "cell_type": "code",
   "execution_count": 13,
   "id": "7f5d8d6f",
   "metadata": {},
   "outputs": [
    {
     "data": {
      "text/plain": [
       "array([5.1, 0.2])"
      ]
     },
     "execution_count": 13,
     "metadata": {},
     "output_type": "execute_result"
    }
   ],
   "source": [
    "vector = np.array(vector.iloc[0 , ])\n",
    "vector"
   ]
  },
  {
   "cell_type": "code",
   "execution_count": 14,
   "id": "634078a5",
   "metadata": {},
   "outputs": [
    {
     "data": {
      "text/plain": [
       "[array([ 31., -18.])]"
      ]
     },
     "execution_count": 14,
     "metadata": {},
     "output_type": "execute_result"
    }
   ],
   "source": [
    "new_vector = [vector * 10 - 20]\n",
    "new_vector"
   ]
  },
  {
   "cell_type": "markdown",
   "id": "421bb7ad",
   "metadata": {},
   "source": [
    "## Visualizing transformation"
   ]
  },
  {
   "cell_type": "code",
   "execution_count": 15,
   "id": "b05d3050",
   "metadata": {},
   "outputs": [
    {
     "data": {
      "text/plain": [
       "<matplotlib.patches.FancyArrow at 0x1f9ee7020a0>"
      ]
     },
     "execution_count": 15,
     "metadata": {},
     "output_type": "execute_result"
    },
    {
     "data": {
      "image/png": "[encoded data removed]",
      "text/plain": [
       "<Figure size 640x480 with 1 Axes>"
      ]
     },
     "metadata": {},
     "output_type": "display_data"
    }
   ],
   "source": [
    "fig, ax = plt.subplots()\n",
    "ax.arrow(0, 0, new_vector[0][0], new_vector[0][1], head_width=0.3, head_length=0.5, fc='blue', ec='blue')\n",
    "ax.arrow(0, 0, dataset['sepal length (cm)'][0], dataset['petal width (cm)'][0], head_width=0.5, head_length=0.5, fc='black', ec='black')\n",
    "\n",
    "\n"
   ]
  },
  {
   "cell_type": "markdown",
   "id": "506521ef",
   "metadata": {},
   "source": [
    "## A matrix transformation"
   ]
  },
  {
   "cell_type": "code",
   "execution_count": 16,
   "id": "c1835696",
   "metadata": {},
   "outputs": [
    {
     "data": {
      "text/plain": [
       "array([[2, 1],\n",
       "       [1, 2]])"
      ]
     },
     "execution_count": 16,
     "metadata": {},
     "output_type": "execute_result"
    }
   ],
   "source": [
    "transform = np.array([[2, 1], [1, 2]])\n",
    "transform"
   ]
  },
  {
   "cell_type": "code",
   "execution_count": 17,
   "id": "67eb9d0b",
   "metadata": {},
   "outputs": [
    {
     "data": {
      "text/plain": [
       "[array([10.4,  5.5])]"
      ]
     },
     "execution_count": 17,
     "metadata": {},
     "output_type": "execute_result"
    }
   ],
   "source": [
    "transformed_vector = [np.matmul(transform, vector)]\n",
    "transformed_vector"
   ]
  },
  {
   "cell_type": "code",
   "execution_count": 18,
   "id": "e45ad215",
   "metadata": {},
   "outputs": [
    {
     "data": {
      "text/plain": [
       "<matplotlib.patches.FancyArrow at 0x1f9ee49b8b0>"
      ]
     },
     "execution_count": 18,
     "metadata": {},
     "output_type": "execute_result"
    },
    {
     "data": {
      "image/png": "[encoded data removed]",
      "text/plain": [
       "<Figure size 640x480 with 1 Axes>"
      ]
     },
     "metadata": {},
     "output_type": "display_data"
    }
   ],
   "source": [
    "fig, ax = plt.subplots()\n",
    "ax.arrow(0, 0, new_vector[0][0], new_vector[0][1], head_width=0.3, head_length=0.5, fc='blue', ec='blue')\n",
    "ax.arrow(0, 0, dataset['sepal length (cm)'][0], dataset['petal width (cm)'][0], head_width=0.5, head_length=0.5, fc='black', ec='black')\n",
    "ax.arrow(0, 0, transformed_vector[0][0], transformed_vector[0][1], head_width=0.3, head_length=0.5, fc='red', ec='red')\n"
   ]
  },
  {
   "cell_type": "markdown",
   "id": "d6df2e59",
   "metadata": {},
   "source": [
    "## Determinants "
   ]
  },
  {
   "cell_type": "code",
   "execution_count": 19,
   "id": "1a159543",
   "metadata": {},
   "outputs": [
    {
     "data": {
      "text/plain": [
       "<matplotlib.patches.FancyArrow at 0x1f9ee8b6400>"
      ]
     },
     "execution_count": 19,
     "metadata": {},
     "output_type": "execute_result"
    },
    {
     "data": {
      "image/png": "[encoded data removed]",
      "text/plain": [
       "<Figure size 640x480 with 1 Axes>"
      ]
     },
     "metadata": {},
     "output_type": "display_data"
    }
   ],
   "source": [
    "fig, ax = plt.subplots()\n",
    "ax.arrow(0, 0, dataset['sepal length (cm)'][0], dataset['petal width (cm)'][0], head_width=0.05, head_length=0.05, fc='black', ec='black')"
   ]
  },
  {
   "cell_type": "code",
   "execution_count": 20,
   "id": "6e7426b5",
   "metadata": {},
   "outputs": [
    {
     "data": {
      "text/plain": [
       "0.03999999999999985"
      ]
     },
     "execution_count": 20,
     "metadata": {},
     "output_type": "execute_result"
    }
   ],
   "source": [
    "vector = dataset[[\"sepal length (cm)\" ,'petal width (cm)' ]].iloc[0:2 , :]\n",
    "vector\n",
    "determinant = np.linalg.det(vector)\n",
    "determinant"
   ]
  },
  {
   "cell_type": "markdown",
   "id": "1f4ae675",
   "metadata": {},
   "source": [
    "## Matrix Inverse"
   ]
  },
  {
   "cell_type": "code",
   "execution_count": 21,
   "id": "7d907d4a",
   "metadata": {},
   "outputs": [
    {
     "data": {
      "text/plain": [
       "array([[   5. ,   -5. ],\n",
       "       [-122.5,  127.5]])"
      ]
     },
     "execution_count": 21,
     "metadata": {},
     "output_type": "execute_result"
    }
   ],
   "source": [
    "inverse = np.linalg.inv(vector)\n",
    "inverse"
   ]
  },
  {
   "cell_type": "code",
   "execution_count": 22,
   "id": "c9cac405",
   "metadata": {},
   "outputs": [
    {
     "data": {
      "text/html": [
       "<div>\n",
       "<style scoped>\n",
       "    .dataframe tbody tr th:only-of-type {\n",
       "        vertical-align: middle;\n",
       "    }\n",
       "\n",
       "    .dataframe tbody tr th {\n",
       "        vertical-align: top;\n",
       "    }\n",
       "\n",
       "    .dataframe thead th {\n",
       "        text-align: right;\n",
       "    }\n",
       "</style>\n",
       "<table border=\"1\" class=\"dataframe\">\n",
       "  <thead>\n",
       "    <tr style=\"text-align: right;\">\n",
       "      <th></th>\n",
       "      <th>sepal length (cm)</th>\n",
       "      <th>petal width (cm)</th>\n",
       "    </tr>\n",
       "  </thead>\n",
       "  <tbody>\n",
       "    <tr>\n",
       "      <th>0</th>\n",
       "      <td>5.1</td>\n",
       "      <td>0.2</td>\n",
       "    </tr>\n",
       "    <tr>\n",
       "      <th>1</th>\n",
       "      <td>4.9</td>\n",
       "      <td>0.2</td>\n",
       "    </tr>\n",
       "  </tbody>\n",
       "</table>\n",
       "</div>"
      ],
      "text/plain": [
       "   sepal length (cm)  petal width (cm)\n",
       "0                5.1               0.2\n",
       "1                4.9               0.2"
      ]
     },
     "execution_count": 22,
     "metadata": {},
     "output_type": "execute_result"
    }
   ],
   "source": [
    "vector"
   ]
  },
  {
   "cell_type": "code",
   "execution_count": 23,
   "id": "c6b44096",
   "metadata": {},
   "outputs": [
    {
     "data": {
      "text/plain": [
       "array([[ 1.00000000e+00, -5.55111512e-18],\n",
       "       [ 6.10622664e-17,  1.00000000e+00]])"
      ]
     },
     "execution_count": 23,
     "metadata": {},
     "output_type": "execute_result"
    }
   ],
   "source": [
    "np.array(np.matmul(vector , inverse))"
   ]
  },
  {
   "cell_type": "markdown",
   "id": "399dea38",
   "metadata": {},
   "source": [
    "## Derivatives and integrals"
   ]
  },
  {
   "cell_type": "code",
   "execution_count": 24,
   "id": "b9f26267",
   "metadata": {},
   "outputs": [
    {
     "data": {
      "text/latex": [
       "$\\displaystyle x^{3}$"
      ],
      "text/plain": [
       "x**3"
      ]
     },
     "execution_count": 24,
     "metadata": {},
     "output_type": "execute_result"
    }
   ],
   "source": [
    "x = sp.Symbol('x')\n",
    "y = x**3\n",
    "y"
   ]
  },
  {
   "cell_type": "code",
   "execution_count": 25,
   "id": "227bed0c",
   "metadata": {},
   "outputs": [
    {
     "data": {
      "text/latex": [
       "$\\displaystyle 3 x^{2}$"
      ],
      "text/plain": [
       "3*x**2"
      ]
     },
     "execution_count": 25,
     "metadata": {},
     "output_type": "execute_result"
    }
   ],
   "source": [
    "dy_dx = sp.diff(y, x)\n",
    "dy_dx"
   ]
  },
  {
   "cell_type": "code",
   "execution_count": 26,
   "id": "23f52beb",
   "metadata": {},
   "outputs": [
    {
     "data": {
      "text/latex": [
       "$\\displaystyle 6 x$"
      ],
      "text/plain": [
       "6*x"
      ]
     },
     "execution_count": 26,
     "metadata": {},
     "output_type": "execute_result"
    }
   ],
   "source": [
    "dy_dx2 = sp.diff(y, x ,2)\n",
    "dy_dx2"
   ]
  },
  {
   "cell_type": "code",
   "execution_count": 27,
   "id": "cd27a516",
   "metadata": {},
   "outputs": [
    {
     "data": {
      "text/latex": [
       "$\\displaystyle 12$"
      ],
      "text/plain": [
       "12"
      ]
     },
     "execution_count": 27,
     "metadata": {},
     "output_type": "execute_result"
    }
   ],
   "source": [
    "dy_dx.subs(x, 2)"
   ]
  },
  {
   "cell_type": "code",
   "execution_count": 28,
   "id": "1659c50c",
   "metadata": {},
   "outputs": [
    {
     "data": {
      "text/latex": [
       "$\\displaystyle 1$"
      ],
      "text/plain": [
       "1"
      ]
     },
     "execution_count": 28,
     "metadata": {},
     "output_type": "execute_result"
    }
   ],
   "source": [
    "integral = sp.integrate(dy_dx , (x , 0 , 1))\n",
    "integral"
   ]
  },
  {
   "cell_type": "markdown",
   "id": "44cc61bc",
   "metadata": {},
   "source": [
    "## eigenvalues eigenvectors\n"
   ]
  },
  {
   "cell_type": "code",
   "execution_count": 29,
   "id": "ceb69d51",
   "metadata": {},
   "outputs": [
    {
     "data": {
      "text/plain": [
       "array([[5.1, 0.2],\n",
       "       [4.9, 0.2]])"
      ]
     },
     "execution_count": 29,
     "metadata": {},
     "output_type": "execute_result"
    }
   ],
   "source": [
    "vector = np.array(vector)\n",
    "vector"
   ]
  },
  {
   "cell_type": "code",
   "execution_count": 30,
   "id": "0299f10c",
   "metadata": {},
   "outputs": [
    {
     "data": {
      "text/plain": [
       "array([[ 0.72059116, -0.03924363],\n",
       "       [ 0.69336021,  0.99922967]])"
      ]
     },
     "execution_count": 30,
     "metadata": {},
     "output_type": "execute_result"
    }
   ],
   "source": [
    "eigenvalues, eigenvectors = np.linalg.eig(vector)\n",
    "eigenvectors"
   ]
  },
  {
   "cell_type": "code",
   "execution_count": 31,
   "id": "d293c88e",
   "metadata": {},
   "outputs": [
    {
     "data": {
      "text/plain": [
       "array([5.29244205, 0.00755795])"
      ]
     },
     "execution_count": 31,
     "metadata": {},
     "output_type": "execute_result"
    }
   ],
   "source": [
    "eigenvalues"
   ]
  },
  {
   "cell_type": "markdown",
   "id": "7262a4f2",
   "metadata": {},
   "source": [
    "## Expexcted value"
   ]
  },
  {
   "cell_type": "code",
   "execution_count": 32,
   "id": "1cd2397c",
   "metadata": {},
   "outputs": [
    {
     "name": "stdout",
     "output_type": "stream",
     "text": [
      "Expected value: 2.4\n"
     ]
    }
   ],
   "source": [
    "pmf = [0.2, 0.3, 0.4, 0.1]\n",
    "values = [1, 2, 3, 4]\n",
    "\n",
    "# Create a discrete random variable object\n",
    "discrete_rv = rv_discrete(values=(values, pmf))\n",
    "\n",
    "expected_value = discrete_rv.mean()\n",
    "\n",
    "print(\"Expected value:\", expected_value)\n"
   ]
  },
  {
   "cell_type": "code",
   "execution_count": 33,
   "id": "9f414c99",
   "metadata": {},
   "outputs": [
    {
     "name": "stdout",
     "output_type": "stream",
     "text": [
      "Expected value: 16.0\n"
     ]
    }
   ],
   "source": [
    "def pdf(x):\n",
    "    return 2*x\n",
    "\n",
    "a = 0\n",
    "b = 4\n",
    "\n",
    "expected_value = np.trapz(pdf(np.linspace(a, b, num=100)), np.linspace(a, b, num=100))\n",
    "\n",
    "print(\"Expected value:\", expected_value)\n"
   ]
  },
  {
   "cell_type": "code",
   "execution_count": 34,
   "id": "bb32c6d5",
   "metadata": {},
   "outputs": [
    {
     "data": {
      "text/plain": [
       "<Axes: xlabel='classs', ylabel='sepal length (cm)'>"
      ]
     },
     "execution_count": 34,
     "metadata": {},
     "output_type": "execute_result"
    },
    {
     "data": {
      "image/png": "[encoded data removed]",
      "text/plain": [
       "<Figure size 640x480 with 1 Axes>"
      ]
     },
     "metadata": {},
     "output_type": "display_data"
    }
   ],
   "source": [
    "import seaborn as sns\n",
    "\n",
    "sns.boxplot(x=dataset['classs'], y=dataset['sepal length (cm)'])\n",
    "\n"
   ]
  },
  {
   "cell_type": "code",
   "execution_count": 35,
   "id": "0fda3fa7",
   "metadata": {},
   "outputs": [
    {
     "data": {
      "text/plain": [
       "<BarContainer object of 300 artists>"
      ]
     },
     "execution_count": 35,
     "metadata": {},
     "output_type": "execute_result"
    },
    {
     "data": {
      "image/png": "[encoded data removed]",
      "text/plain": [
       "<Figure size 640x480 with 1 Axes>"
      ]
     },
     "metadata": {},
     "output_type": "display_data"
    }
   ],
   "source": [
    "hist, bin_edges = np.histogram(dataset['sepal length (cm)'], bins=300, density=True)\n",
    "bin_centers = (bin_edges[:-1] + bin_edges[1:]) / 2\n",
    "pdf = hist / np.sum(hist)\n",
    "pdf\n",
    "plt.bar(bin_centers, pdf, width=0.1, alpha=0.5)\n"
   ]
  },
  {
   "cell_type": "code",
   "execution_count": 36,
   "id": "201ef7bb",
   "metadata": {},
   "outputs": [
    {
     "name": "stdout",
     "output_type": "stream",
     "text": [
      "Expected value of sepal length: 0.07\n"
     ]
    },
    {
     "name": "stderr",
     "output_type": "stream",
     "text": [
      "C:\\Users\\jamee\\AppData\\Local\\Temp\\ipykernel_21376\\619184492.py:1: IntegrationWarning: The maximum number of subdivisions (50) has been achieved.\n",
      "  If increasing the limit yields no improvement it is advised to analyze \n",
      "  the integrand in order to determine the difficulties.  If the position of a \n",
      "  local difficulty can be determined (singularity, discontinuity) one will \n",
      "  probably gain from splitting up the interval and calling the integrator \n",
      "  on the subranges.  Perhaps a special-purpose integrator should be used.\n",
      "  expected_value, _ = spi.quad(lambda x: x * np.interp(x, bin_centers, pdf), bin_centers[0], bin_centers[-1])\n"
     ]
    }
   ],
   "source": [
    "expected_value, _ = spi.quad(lambda x: x * np.interp(x, bin_centers, pdf), bin_centers[0], bin_centers[-1])\n",
    "print(\"Expected value of sepal length: {:.2f}\".format(expected_value))\n"
   ]
  },
  {
   "cell_type": "code",
   "execution_count": 37,
   "id": "6fb59761",
   "metadata": {},
   "outputs": [
    {
     "data": {
      "text/plain": [
       "5.843333333333334"
      ]
     },
     "execution_count": 37,
     "metadata": {},
     "output_type": "execute_result"
    }
   ],
   "source": [
    "np.mean(np.array(dataset['sepal length (cm)']))"
   ]
  },
  {
   "cell_type": "code",
   "execution_count": 38,
   "id": "9f2cb8a7",
   "metadata": {},
   "outputs": [
    {
     "data": {
      "image/png": "[encoded data removed]",
      "text/plain": [
       "<Figure size 640x480 with 1 Axes>"
      ]
     },
     "metadata": {},
     "output_type": "display_data"
    },
    {
     "name": "stdout",
     "output_type": "stream",
     "text": [
      "The probability of sepal length between 5 and 6 is 0.42\n"
     ]
    }
   ],
   "source": [
    "from scipy.stats import norm\n",
    "\n",
    "# Fit a normal distribution to the data\n",
    "mu, std = norm.fit(dataset['sepal length (cm)'])\n",
    "\n",
    "# Define the range of values to plot the function\n",
    "x = np.linspace(dataset['sepal length (cm)'].min(), dataset['sepal length (cm)'].max(), 100)\n",
    "\n",
    "# Calculate the PDF using the fitted parameters\n",
    "pdf_fit = norm.pdf(x, mu, std)\n",
    "\n",
    "# Calculate the area under the curve between two values\n",
    "a, b = 5, 6\n",
    "prob = norm.cdf(b, mu, std) - norm.cdf(a, mu, std)\n",
    "\n",
    "# Plot the fitted function and the area under the curve\n",
    "plt.plot(x, pdf_fit, label='Fitted normal distribution')\n",
    "plt.fill_between(x, pdf_fit, where=(x >= a) & (x <= b), color='blue', alpha=0.2)\n",
    "plt.xlabel('sepal length (cm)')\n",
    "plt.ylabel('Probability density')\n",
    "plt.title('Fitted normal distribution')\n",
    "plt.legend()\n",
    "plt.show()\n",
    "\n",
    "print(f'The probability of sepal length between {a} and {b} is {prob:.2f}')\n"
   ]
  },
  {
   "cell_type": "markdown",
   "id": "ac1a7fc9",
   "metadata": {},
   "source": [
    "## Markov Chains from scratch"
   ]
  },
  {
   "cell_type": "code",
   "execution_count": 39,
   "id": "572caa60",
   "metadata": {},
   "outputs": [
    {
     "data": {
      "text/plain": [
       "array([[0.2, 0.6, 0.2],\n",
       "       [0.3, 0. , 0.7],\n",
       "       [0.5, 0. , 0.5]])"
      ]
     },
     "execution_count": 39,
     "metadata": {},
     "output_type": "execute_result"
    }
   ],
   "source": [
    "MC = np.array(([0.2 , 0.6 , 0.2] ,\n",
    "             [0.3 , 0 , 0.7],\n",
    "             [0.5 , 0 , 0.5]))\n",
    "MC"
   ]
  },
  {
   "cell_type": "code",
   "execution_count": 40,
   "id": "c2836e9a",
   "metadata": {},
   "outputs": [
    {
     "data": {
      "text/plain": [
       "array([0.2, 0.6, 0.2])"
      ]
     },
     "execution_count": 40,
     "metadata": {},
     "output_type": "execute_result"
    }
   ],
   "source": [
    "initial_vector = [1 , 0, 0]\n",
    "initial_vector = np.matmul(initial_vector ,  MC)\n",
    "initial_vector"
   ]
  },
  {
   "cell_type": "code",
   "execution_count": 41,
   "id": "4d400dbe",
   "metadata": {},
   "outputs": [
    {
     "data": {
      "text/plain": [
       "array([ 1.  +0.j       , -0.15+0.3122499j, -0.15-0.3122499j])"
      ]
     },
     "execution_count": 41,
     "metadata": {},
     "output_type": "execute_result"
    }
   ],
   "source": [
    "#Finding the stationary state with eigen vectors and values\n",
    "eigenvalues, eigenvectors = np.linalg.eig(MC)\n",
    "eigenvalues\n"
   ]
  },
  {
   "cell_type": "code",
   "execution_count": 42,
   "id": "91782aa4",
   "metadata": {},
   "outputs": [
    {
     "data": {
      "text/plain": [
       "array([[-0.57735027+0.j        ,  0.70597631+0.j        ,\n",
       "         0.70597631-0.j        ],\n",
       "       [-0.57735027+0.j        , -0.26474112+0.4380559j ,\n",
       "        -0.26474112-0.4380559j ],\n",
       "       [-0.57735027+0.j        , -0.4412352 -0.21196253j,\n",
       "        -0.4412352 +0.21196253j]])"
      ]
     },
     "execution_count": 42,
     "metadata": {},
     "output_type": "execute_result"
    }
   ],
   "source": [
    "eigenvectors"
   ]
  },
  {
   "cell_type": "code",
   "execution_count": 43,
   "id": "9dd130d6",
   "metadata": {},
   "outputs": [],
   "source": [
    "# We only care about the first vector because it's eigenvalue corresponds to one which is the one that we care about\n",
    "# since the stationary state is a an eijenvector with a scale of 1\n",
    "#Using l1 normalization we obtain the stationary distrubtion as the sum of the state is equal to one since we are dealing with\n",
    "# aprobablity distrubtion\n",
    "# here we are dealing with complxex valued numbers so we take the abs of each engry and abs of the results"
   ]
  },
  {
   "cell_type": "code",
   "execution_count": 44,
   "id": "dda0378d",
   "metadata": {},
   "outputs": [
    {
     "data": {
      "text/plain": [
       "[0.29022743093214814, 0.3548862845339259, 0.3548862845339259]"
      ]
     },
     "execution_count": 44,
     "metadata": {},
     "output_type": "execute_result"
    }
   ],
   "source": [
    "stationary_state = eigenvectors[0]\n",
    "stationary_state = [ abs(prob/sum(abs(stationary_state))) for prob in stationary_state]\n",
    "stationary_state"
   ]
  },
  {
   "cell_type": "markdown",
   "id": "be2f2afb",
   "metadata": {},
   "source": [
    "## Entropy measure of surprise"
   ]
  },
  {
   "cell_type": "code",
   "execution_count": 45,
   "id": "4bcc585f",
   "metadata": {},
   "outputs": [
    {
     "data": {
      "text/plain": [
       "array([0.08412707, 0.09126368, 0.09881368, 0.10678077, 0.11516642,\n",
       "       0.12396971, 0.1331871 , 0.1428123 , 0.1528361 , 0.16324622,\n",
       "       0.17402722, 0.18516041, 0.19662373, 0.20839179, 0.22043582,\n",
       "       0.23272368, 0.24521999, 0.25788616, 0.27068057, 0.2835587 ,\n",
       "       0.29647342, 0.30937514, 0.32221216, 0.33493098, 0.34747662,\n",
       "       0.35979301, 0.3718234 , 0.3835108 , 0.39479837, 0.40562991,\n",
       "       0.41595032, 0.42570605, 0.43484557, 0.44331983, 0.45108266,\n",
       "       0.45809123, 0.46430643, 0.46969322, 0.47422096, 0.47786374,\n",
       "       0.48060057, 0.48241562, 0.48329834, 0.48324361, 0.48225175,\n",
       "       0.48032852, 0.47748508, 0.47373787, 0.46910848, 0.46362338,\n",
       "       0.45731373, 0.45021507, 0.44236697, 0.43381266, 0.42459866,\n",
       "       0.41477435, 0.40439152, 0.39350391, 0.38216679, 0.37043644,\n",
       "       0.35836974, 0.34602369, 0.33345498, 0.32071956, 0.30787226,\n",
       "       0.2949664 , 0.28205344, 0.26918269, 0.25640101, 0.24375257,\n",
       "       0.23127865, 0.21901747, 0.20700405, 0.19527012, 0.18384407,\n",
       "       0.1727509 , 0.16201227, 0.15164648, 0.14166862, 0.13209058,\n",
       "       0.12292123, 0.11416654, 0.10582971, 0.09791141, 0.09040987,\n",
       "       0.08332115, 0.0766393 , 0.07035657, 0.06446362, 0.0589497 ,\n",
       "       0.05380286, 0.04901015, 0.04455778, 0.04043132, 0.03661585,\n",
       "       0.03309614, 0.02985673, 0.02688216, 0.02415699, 0.02166599])"
      ]
     },
     "execution_count": 45,
     "metadata": {},
     "output_type": "execute_result"
    }
   ],
   "source": [
    "pdf_fit "
   ]
  },
  {
   "cell_type": "code",
   "execution_count": 46,
   "id": "3aa1aa26",
   "metadata": {},
   "outputs": [
    {
     "data": {
      "text/plain": [
       "0.18723589798518028"
      ]
     },
     "execution_count": 46,
     "metadata": {},
     "output_type": "execute_result"
    }
   ],
   "source": [
    "ent = entropy(pdf_fit , 2)\n",
    "ent"
   ]
  },
  {
   "cell_type": "markdown",
   "id": "9f6ffa1b",
   "metadata": {},
   "source": [
    "## Covariance and Colleration"
   ]
  },
  {
   "cell_type": "code",
   "execution_count": 47,
   "id": "8ce8f5d1",
   "metadata": {},
   "outputs": [],
   "source": [
    "#We say that a colleartaion exist using the abs(r) >= law 2/sqrt(sample_size)"
   ]
  },
  {
   "cell_type": "code",
   "execution_count": 48,
   "id": "7ddc5937",
   "metadata": {},
   "outputs": [
    {
     "data": {
      "text/html": [
       "<div>\n",
       "<style scoped>\n",
       "    .dataframe tbody tr th:only-of-type {\n",
       "        vertical-align: middle;\n",
       "    }\n",
       "\n",
       "    .dataframe tbody tr th {\n",
       "        vertical-align: top;\n",
       "    }\n",
       "\n",
       "    .dataframe thead th {\n",
       "        text-align: right;\n",
       "    }\n",
       "</style>\n",
       "<table border=\"1\" class=\"dataframe\">\n",
       "  <thead>\n",
       "    <tr style=\"text-align: right;\">\n",
       "      <th></th>\n",
       "      <th>sepal length (cm)</th>\n",
       "      <th>sepal width (cm)</th>\n",
       "      <th>petal length (cm)</th>\n",
       "      <th>petal width (cm)</th>\n",
       "      <th>classs</th>\n",
       "    </tr>\n",
       "  </thead>\n",
       "  <tbody>\n",
       "    <tr>\n",
       "      <th>0</th>\n",
       "      <td>5.1</td>\n",
       "      <td>3.5</td>\n",
       "      <td>1.4</td>\n",
       "      <td>0.2</td>\n",
       "      <td>0</td>\n",
       "    </tr>\n",
       "    <tr>\n",
       "      <th>1</th>\n",
       "      <td>4.9</td>\n",
       "      <td>3.0</td>\n",
       "      <td>1.4</td>\n",
       "      <td>0.2</td>\n",
       "      <td>0</td>\n",
       "    </tr>\n",
       "    <tr>\n",
       "      <th>2</th>\n",
       "      <td>4.7</td>\n",
       "      <td>3.2</td>\n",
       "      <td>1.3</td>\n",
       "      <td>0.2</td>\n",
       "      <td>0</td>\n",
       "    </tr>\n",
       "    <tr>\n",
       "      <th>3</th>\n",
       "      <td>4.6</td>\n",
       "      <td>3.1</td>\n",
       "      <td>1.5</td>\n",
       "      <td>0.2</td>\n",
       "      <td>0</td>\n",
       "    </tr>\n",
       "    <tr>\n",
       "      <th>4</th>\n",
       "      <td>5.0</td>\n",
       "      <td>3.6</td>\n",
       "      <td>1.4</td>\n",
       "      <td>0.2</td>\n",
       "      <td>0</td>\n",
       "    </tr>\n",
       "    <tr>\n",
       "      <th>...</th>\n",
       "      <td>...</td>\n",
       "      <td>...</td>\n",
       "      <td>...</td>\n",
       "      <td>...</td>\n",
       "      <td>...</td>\n",
       "    </tr>\n",
       "    <tr>\n",
       "      <th>145</th>\n",
       "      <td>6.7</td>\n",
       "      <td>3.0</td>\n",
       "      <td>5.2</td>\n",
       "      <td>2.3</td>\n",
       "      <td>2</td>\n",
       "    </tr>\n",
       "    <tr>\n",
       "      <th>146</th>\n",
       "      <td>6.3</td>\n",
       "      <td>2.5</td>\n",
       "      <td>5.0</td>\n",
       "      <td>1.9</td>\n",
       "      <td>2</td>\n",
       "    </tr>\n",
       "    <tr>\n",
       "      <th>147</th>\n",
       "      <td>6.5</td>\n",
       "      <td>3.0</td>\n",
       "      <td>5.2</td>\n",
       "      <td>2.0</td>\n",
       "      <td>2</td>\n",
       "    </tr>\n",
       "    <tr>\n",
       "      <th>148</th>\n",
       "      <td>6.2</td>\n",
       "      <td>3.4</td>\n",
       "      <td>5.4</td>\n",
       "      <td>2.3</td>\n",
       "      <td>2</td>\n",
       "    </tr>\n",
       "    <tr>\n",
       "      <th>149</th>\n",
       "      <td>5.9</td>\n",
       "      <td>3.0</td>\n",
       "      <td>5.1</td>\n",
       "      <td>1.8</td>\n",
       "      <td>2</td>\n",
       "    </tr>\n",
       "  </tbody>\n",
       "</table>\n",
       "<p>150 rows × 5 columns</p>\n",
       "</div>"
      ],
      "text/plain": [
       "     sepal length (cm)  sepal width (cm)  petal length (cm)  petal width (cm)   \n",
       "0                  5.1               3.5                1.4               0.2  \\\n",
       "1                  4.9               3.0                1.4               0.2   \n",
       "2                  4.7               3.2                1.3               0.2   \n",
       "3                  4.6               3.1                1.5               0.2   \n",
       "4                  5.0               3.6                1.4               0.2   \n",
       "..                 ...               ...                ...               ...   \n",
       "145                6.7               3.0                5.2               2.3   \n",
       "146                6.3               2.5                5.0               1.9   \n",
       "147                6.5               3.0                5.2               2.0   \n",
       "148                6.2               3.4                5.4               2.3   \n",
       "149                5.9               3.0                5.1               1.8   \n",
       "\n",
       "     classs  \n",
       "0         0  \n",
       "1         0  \n",
       "2         0  \n",
       "3         0  \n",
       "4         0  \n",
       "..      ...  \n",
       "145       2  \n",
       "146       2  \n",
       "147       2  \n",
       "148       2  \n",
       "149       2  \n",
       "\n",
       "[150 rows x 5 columns]"
      ]
     },
     "execution_count": 48,
     "metadata": {},
     "output_type": "execute_result"
    }
   ],
   "source": [
    "dataset"
   ]
  },
  {
   "cell_type": "code",
   "execution_count": 49,
   "id": "4b11aeda",
   "metadata": {},
   "outputs": [
    {
     "data": {
      "text/plain": [
       "<matplotlib.collections.PathCollection at 0x1f9ef0817c0>"
      ]
     },
     "execution_count": 49,
     "metadata": {},
     "output_type": "execute_result"
    },
    {
     "data": {
      "image/png": "[encoded data removed]",
      "text/plain": [
       "<Figure size 640x480 with 1 Axes>"
      ]
     },
     "metadata": {},
     "output_type": "display_data"
    }
   ],
   "source": [
    "plt.figure()\n",
    "plt.scatter(dataset['sepal length (cm)'] , dataset['sepal width (cm)'])"
   ]
  },
  {
   "cell_type": "code",
   "execution_count": 50,
   "id": "fee17f9a",
   "metadata": {},
   "outputs": [
    {
     "name": "stdout",
     "output_type": "stream",
     "text": [
      "No linear colleration -0.11756978413300198\n"
     ]
    }
   ],
   "source": [
    "covariance = np.cov(np.array(dataset['sepal length (cm)']), np.array(dataset['sepal width (cm)']))[0][1]\n",
    "correlation = dataset['sepal length (cm)'].corr(dataset['sepal width (cm)'])\n",
    "\n",
    "if abs(correlation) >= 2/math.sqrt(len(dataset)):\n",
    "    print(\"There is a linear colleration \" ,correlation )\n",
    "else:\n",
    "    print(\"No linear colleration\" , correlation)\n"
   ]
  },
  {
   "cell_type": "markdown",
   "id": "39211cb0",
   "metadata": {},
   "source": [
    "## Cross entropy and KL divergence"
   ]
  },
  {
   "cell_type": "code",
   "execution_count": 51,
   "id": "4486326d",
   "metadata": {},
   "outputs": [
    {
     "data": {
      "text/plain": [
       "array([0.08412707, 0.09126368, 0.09881368, 0.10678077, 0.11516642,\n",
       "       0.12396971, 0.1331871 , 0.1428123 , 0.1528361 , 0.16324622,\n",
       "       0.17402722, 0.18516041, 0.19662373, 0.20839179, 0.22043582,\n",
       "       0.23272368, 0.24521999, 0.25788616, 0.27068057, 0.2835587 ,\n",
       "       0.29647342, 0.30937514, 0.32221216, 0.33493098, 0.34747662,\n",
       "       0.35979301, 0.3718234 , 0.3835108 , 0.39479837, 0.40562991,\n",
       "       0.41595032, 0.42570605, 0.43484557, 0.44331983, 0.45108266,\n",
       "       0.45809123, 0.46430643, 0.46969322, 0.47422096, 0.47786374,\n",
       "       0.48060057, 0.48241562, 0.48329834, 0.48324361, 0.48225175,\n",
       "       0.48032852, 0.47748508, 0.47373787, 0.46910848, 0.46362338,\n",
       "       0.45731373, 0.45021507, 0.44236697, 0.43381266, 0.42459866,\n",
       "       0.41477435, 0.40439152, 0.39350391, 0.38216679, 0.37043644,\n",
       "       0.35836974, 0.34602369, 0.33345498, 0.32071956, 0.30787226,\n",
       "       0.2949664 , 0.28205344, 0.26918269, 0.25640101, 0.24375257,\n",
       "       0.23127865, 0.21901747, 0.20700405, 0.19527012, 0.18384407,\n",
       "       0.1727509 , 0.16201227, 0.15164648, 0.14166862, 0.13209058,\n",
       "       0.12292123, 0.11416654, 0.10582971, 0.09791141, 0.09040987,\n",
       "       0.08332115, 0.0766393 , 0.07035657, 0.06446362, 0.0589497 ,\n",
       "       0.05380286, 0.04901015, 0.04455778, 0.04043132, 0.03661585,\n",
       "       0.03309614, 0.02985673, 0.02688216, 0.02415699, 0.02166599])"
      ]
     },
     "execution_count": 51,
     "metadata": {},
     "output_type": "execute_result"
    }
   ],
   "source": [
    "mu, std = norm.fit(dataset['sepal length (cm)'])\n",
    "x = np.linspace(dataset['sepal length (cm)'].min(), dataset['sepal length (cm)'].max(), 100)\n",
    "P = norm.pdf(x , mu , std)\n",
    "P"
   ]
  },
  {
   "cell_type": "code",
   "execution_count": 52,
   "id": "0f26c976",
   "metadata": {},
   "outputs": [
    {
     "data": {
      "text/plain": [
       "array([0.04749059, 0.05431507, 0.06192707, 0.07038632, 0.07975235,\n",
       "       0.0900837 , 0.10143702, 0.11386604, 0.12742056, 0.14214522,\n",
       "       0.15807841, 0.17525093, 0.19368484, 0.21339215, 0.23437363,\n",
       "       0.25661767, 0.28009921, 0.30477877, 0.33060168, 0.35749741,\n",
       "       0.38537919, 0.41414376, 0.44367146, 0.47382652, 0.5044577 ,\n",
       "       0.53539911, 0.56647148, 0.59748355, 0.6282339 , 0.65851291,\n",
       "       0.68810502, 0.7167912 , 0.74435157, 0.77056816, 0.79522774,\n",
       "       0.81812467, 0.83906377, 0.85786303, 0.8743563 , 0.88839568,\n",
       "       0.89985378, 0.90862558, 0.91463008, 0.91781153, 0.91814029,\n",
       "       0.9156133 , 0.9102541 , 0.90211251, 0.89126381, 0.87780762,\n",
       "       0.86186635, 0.84358338, 0.82312087, 0.80065739, 0.77638535,\n",
       "       0.75050822, 0.72323774, 0.69479105, 0.66538783, 0.63524756,\n",
       "       0.6045868 , 0.57361676, 0.54254092, 0.51155305, 0.48083533,\n",
       "       0.45055682, 0.42087223, 0.39192095, 0.36382639, 0.33669559,\n",
       "       0.3106191 , 0.28567116, 0.26191004, 0.23937864, 0.21810527,\n",
       "       0.19810454, 0.17937843, 0.16191739, 0.14570159, 0.13070211,\n",
       "       0.11688221, 0.10419856, 0.09260247, 0.08204099, 0.07245806,\n",
       "       0.0637955 , 0.05599393, 0.04899359, 0.04273514, 0.03716024,\n",
       "       0.03221213, 0.02783606, 0.0239797 , 0.02059336, 0.01763023,\n",
       "       0.01504653, 0.01280154, 0.01085765, 0.0091803 , 0.00773794])"
      ]
     },
     "execution_count": 52,
     "metadata": {},
     "output_type": "execute_result"
    }
   ],
   "source": [
    "mu, std = norm.fit(dataset['sepal width (cm)'])\n",
    "x = np.linspace(dataset['sepal width (cm)'].min(), dataset['sepal width (cm)'].max(), 100)\n",
    "Q = norm.pdf(x , mu , std)\n",
    "Q"
   ]
  },
  {
   "cell_type": "code",
   "execution_count": 53,
   "id": "3feb1724",
   "metadata": {},
   "outputs": [
    {
     "data": {
      "text/plain": [
       "19.7661178932573"
      ]
     },
     "execution_count": 53,
     "metadata": {},
     "output_type": "execute_result"
    }
   ],
   "source": [
    "cross_entropy = -np.sum(P * np.log(Q))\n",
    "cross_entropy"
   ]
  },
  {
   "cell_type": "code",
   "execution_count": 54,
   "id": "bebe6c9d",
   "metadata": {},
   "outputs": [
    {
     "data": {
      "text/plain": [
       "-10.469307025860195"
      ]
     },
     "execution_count": 54,
     "metadata": {},
     "output_type": "execute_result"
    }
   ],
   "source": [
    "kl_divergence = np.sum(P * np.log(P / Q))\n",
    "kl_divergence"
   ]
  },
  {
   "cell_type": "markdown",
   "id": "371c0908",
   "metadata": {},
   "source": [
    "## KL divergence function visualization"
   ]
  },
  {
   "cell_type": "code",
   "execution_count": 55,
   "id": "828bf073",
   "metadata": {},
   "outputs": [
    {
     "data": {
      "image/png": "[encoded data removed]",
      "text/plain": [
       "<Figure size 640x480 with 1 Axes>"
      ]
     },
     "metadata": {},
     "output_type": "display_data"
    }
   ],
   "source": [
    "import numpy as np\n",
    "from scipy.stats import norm\n",
    "import matplotlib.pyplot as plt\n",
    "\n",
    "# Define parameters of the two Gaussian distributions\n",
    "mu1 = 0\n",
    "sigma1 = 1\n",
    "mu2 = 2\n",
    "sigma2 = 1\n",
    "\n",
    "# Define the range of the samples\n",
    "xmin = -5\n",
    "xmax = 5\n",
    "n_samples = 500\n",
    "x = np.linspace(xmin, xmax, n_samples)\n",
    "\n",
    "# Calculate the probability densities of the two distributions at each sample point\n",
    "p1 = norm.pdf(x, mu1, sigma1)\n",
    "p2 = norm.pdf(x, mu2, sigma2)\n",
    "\n",
    "# Calculate the KL divergence between the two distributions at each sample point\n",
    "kl_div = p1 * np.log(p1 / p2)\n",
    "\n",
    "# Plot the KL divergence as a function of x\n",
    "fig = plt.figure()\n",
    "plt.plot(x, kl_div, 'b-', label='KL divergence')\n",
    "plt.xlabel('X')\n",
    "plt.ylabel('KL divergence')\n",
    "plt.title('KL Divergence between Two Gaussian Distributions')\n",
    "plt.legend()\n",
    "plt.show()\n",
    "\n"
   ]
  },
  {
   "cell_type": "markdown",
   "id": "156f1dd9",
   "metadata": {},
   "source": [
    "## P-value"
   ]
  },
  {
   "cell_type": "code",
   "execution_count": 56,
   "id": "19829923",
   "metadata": {},
   "outputs": [],
   "source": [
    "# Thesehold is 0.05 to reject the null hypothisis"
   ]
  },
  {
   "cell_type": "code",
   "execution_count": 57,
   "id": "b471bc41",
   "metadata": {},
   "outputs": [],
   "source": [
    "# P-value of  the hypothesis that the probatlity of getting a sepal length between 0.8 and 0.09 is special\n",
    "# Therebefore we are trying to reject the null hypthosis that that range is not special"
   ]
  },
  {
   "cell_type": "code",
   "execution_count": 58,
   "id": "196d22a4",
   "metadata": {},
   "outputs": [
    {
     "data": {
      "text/plain": [
       "5.555818622618241e-10"
      ]
     },
     "execution_count": 58,
     "metadata": {},
     "output_type": "execute_result"
    }
   ],
   "source": [
    "a, b = 0.8, 0.9\n",
    "# Fit a normal distribution to the data\n",
    "mu, std = norm.fit(dataset['sepal length (cm)'])\n",
    "x = np.linspace(dataset['sepal length (cm)'].min(), dataset['sepal length (cm)'].max(), len(dataset))\n",
    "\n",
    "# Calculate the PDF using the fitted parameters\n",
    "pdf_fit = norm.pdf(x, mu, std)\n",
    "\n",
    "mu, std = norm.fit(dataset['sepal length (cm)'])\n",
    "random_prob = norm.cdf(b, mu, std) - norm.cdf(a, mu, std)\n",
    "random_prob"
   ]
  },
  {
   "cell_type": "code",
   "execution_count": 59,
   "id": "dd29a134",
   "metadata": {},
   "outputs": [
    {
     "data": {
      "text/plain": [
       "[<matplotlib.lines.Line2D at 0x1f9ef022b20>]"
      ]
     },
     "execution_count": 59,
     "metadata": {},
     "output_type": "execute_result"
    },
    {
     "data": {
      "image/png": "[encoded data removed]",
      "text/plain": [
       "<Figure size 640x480 with 1 Axes>"
      ]
     },
     "metadata": {},
     "output_type": "display_data"
    }
   ],
   "source": [
    "plt.figure()\n",
    "plt.plot(x, pdf_fit, label='Fitted normal distribution')\n"
   ]
  },
  {
   "cell_type": "code",
   "execution_count": 60,
   "id": "8adf06e5",
   "metadata": {},
   "outputs": [
    {
     "data": {
      "text/plain": [
       "4.953554233466662e-10"
      ]
     },
     "execution_count": 60,
     "metadata": {},
     "output_type": "execute_result"
    }
   ],
   "source": [
    "prob_a_or_rarer = 1 - stats.norm.sf(a, mu, std)\n",
    "prob_b_or_rarer = 1 - stats.norm.sf(b, mu, std)\n",
    "prob_a_or_rarer"
   ]
  },
  {
   "cell_type": "code",
   "execution_count": 61,
   "id": "1c3d4aeb",
   "metadata": {},
   "outputs": [
    {
     "data": {
      "text/plain": [
       "1.0509372261324756e-09"
      ]
     },
     "execution_count": 61,
     "metadata": {},
     "output_type": "execute_result"
    }
   ],
   "source": [
    "prob_b_or_rarer"
   ]
  },
  {
   "cell_type": "code",
   "execution_count": 62,
   "id": "d0ee8e82",
   "metadata": {},
   "outputs": [
    {
     "data": {
      "text/plain": [
       "2.101874511740966e-09"
      ]
     },
     "execution_count": 62,
     "metadata": {},
     "output_type": "execute_result"
    }
   ],
   "source": [
    "p_value = random_prob + prob_a_or_rarer + prob_b_or_rarer\n",
    "p_value"
   ]
  },
  {
   "cell_type": "code",
   "execution_count": 63,
   "id": "2c9a5ae5",
   "metadata": {
    "scrolled": false
   },
   "outputs": [
    {
     "data": {
      "text/plain": [
       "6.848363028320532e-120"
      ]
     },
     "execution_count": 63,
     "metadata": {},
     "output_type": "execute_result"
    }
   ],
   "source": [
    "t_stat, p_val = ttest_1samp(dataset['sepal length (cm)'], 0.8)\n",
    "p_val"
   ]
  },
  {
   "cell_type": "markdown",
   "id": "128d93b2",
   "metadata": {},
   "source": [
    "## Naive Bayees"
   ]
  },
  {
   "cell_type": "code",
   "execution_count": 64,
   "id": "89e02fde",
   "metadata": {},
   "outputs": [],
   "source": [
    "from sklearn.datasets import load_iris\n",
    "from sklearn.naive_bayes import GaussianNB\n",
    "from sklearn.model_selection import train_test_split\n",
    "from sklearn.metrics import accuracy_score\n",
    "\n",
    "# Load the Iris dataset\n",
    "iris = load_iris()\n",
    "\n",
    "# Extract the features and target classes\n",
    "X = iris.data[: , 0].reshape(-1, 1)\n",
    "y = iris.target\n"
   ]
  },
  {
   "cell_type": "code",
   "execution_count": 65,
   "id": "7d76101a",
   "metadata": {},
   "outputs": [
    {
     "name": "stdout",
     "output_type": "stream",
     "text": [
      "Accuracy of the Gaussian Naive Bayes classifier on the Iris dataset: 86.67%\n"
     ]
    }
   ],
   "source": [
    "# Split the data into training and testing sets\n",
    "X_train, X_test, y_train, y_test = train_test_split(X, y, test_size=0.2, random_state=42)\n",
    "\n",
    "# Create a Gaussian Naive Bayes classifier and train it on the training data\n",
    "model = GaussianNB()\n",
    "model.fit(X_train, y_train)\n",
    "\n",
    "# Use the model to predict the classes of the test data\n",
    "y_pred = model.predict(X_test)\n",
    "\n",
    "# Compute the accuracy of the model on the test data\n",
    "accuracy = accuracy_score(y_test, y_pred)\n",
    "\n",
    "print(\"Accuracy of the Gaussian Naive Bayes classifier on the Iris dataset: {:.2f}%\".format(accuracy * 100))\n"
   ]
  },
  {
   "cell_type": "markdown",
   "id": "5c73cdb0",
   "metadata": {},
   "source": [
    "## Gradient descent "
   ]
  },
  {
   "cell_type": "code",
   "execution_count": 102,
   "id": "91c55a20",
   "metadata": {},
   "outputs": [
    {
     "data": {
      "text/plain": [
       "18"
      ]
     },
     "execution_count": 102,
     "metadata": {},
     "output_type": "execute_result"
    }
   ],
   "source": [
    "import math\n",
    "import sympy as sp\n",
    "from scipy.optimize import minimize\n",
    "\n",
    "def function(x):\n",
    "    return x**4+2*x**3+3*x**2+2*x+1\n",
    "\n",
    "x = sp.Symbol('x')\n",
    "y = function(x)\n",
    "y_prime = sp.diff(y , x)\n",
    "y_prime = sp.lambdify(x, y_prime)\n",
    "y_prime(1)"
   ]
  },
  {
   "cell_type": "code",
   "execution_count": 103,
   "id": "0ea5630c",
   "metadata": {
    "scrolled": true
   },
   "outputs": [
    {
     "data": {
      "text/latex": [
       "$\\displaystyle x^{4} + 2 x^{3} + 3 x^{2} + 2 x + 1$"
      ],
      "text/plain": [
       "x**4 + 2*x**3 + 3*x**2 + 2*x + 1"
      ]
     },
     "execution_count": 103,
     "metadata": {},
     "output_type": "execute_result"
    }
   ],
   "source": [
    "y"
   ]
  },
  {
   "cell_type": "code",
   "execution_count": 104,
   "id": "75002c04",
   "metadata": {},
   "outputs": [
    {
     "data": {
      "text/latex": [
       "$\\displaystyle 9$"
      ],
      "text/plain": [
       "9"
      ]
     },
     "execution_count": 104,
     "metadata": {},
     "output_type": "execute_result"
    }
   ],
   "source": [
    "y.subs(x, 1)"
   ]
  },
  {
   "cell_type": "code",
   "execution_count": 105,
   "id": "96012e3d",
   "metadata": {},
   "outputs": [
    {
     "name": "stdout",
     "output_type": "stream",
     "text": [
      "  message: Optimization terminated successfully.\n",
      "  success: True\n",
      "   status: 0\n",
      "      fun: 0.5625\n",
      "        x: [-5.000e-01]\n",
      "      nit: 18\n",
      "      jac: [ 1.482e-08]\n",
      " hess_inv: [[ 3.333e-01]]\n",
      "     nfev: 19\n",
      "     njev: 19\n"
     ]
    }
   ],
   "source": [
    "x0 = 20\n",
    "res = minimize(function, x0, jac=y_prime)\n",
    "\n",
    "print(res)\n"
   ]
  },
  {
   "cell_type": "code",
   "execution_count": 106,
   "id": "aa630d05",
   "metadata": {},
   "outputs": [
    {
     "data": {
      "text/plain": [
       "array([1.48156385e-08])"
      ]
     },
     "execution_count": 106,
     "metadata": {},
     "output_type": "execute_result"
    }
   ],
   "source": [
    "y_prime(res[\"x\"])"
   ]
  },
  {
   "cell_type": "code",
   "execution_count": 107,
   "id": "d1f543ee",
   "metadata": {},
   "outputs": [
    {
     "data": {
      "text/plain": [
       "-18"
      ]
     },
     "execution_count": 107,
     "metadata": {},
     "output_type": "execute_result"
    }
   ],
   "source": [
    "import math\n",
    "import sympy as sp\n",
    "from scipy.optimize import minimize\n",
    "\n",
    "def function(x):\n",
    "    return -(x**4+2*x**3+3*x**2+2*x+1)\n",
    "\n",
    "x = sp.Symbol('x')\n",
    "y = function(x)\n",
    "y_prime = sp.diff(y , x)\n",
    "y_prime = sp.lambdify(x, y_prime)\n",
    "y_prime(1)"
   ]
  },
  {
   "cell_type": "code",
   "execution_count": 108,
   "id": "94b613e3",
   "metadata": {},
   "outputs": [],
   "source": [
    "#To maximize we simply negate our function meaning it will try to find the minimum values in the negation of our function\n",
    "#Since the negation will reflect the function on the y-axis , minimum becomes maximum"
   ]
  },
  {
   "cell_type": "code",
   "execution_count": 109,
   "id": "c6092e56",
   "metadata": {},
   "outputs": [
    {
     "data": {
      "text/plain": [
       "array([-1.44598759e+10])"
      ]
     },
     "execution_count": 109,
     "metadata": {},
     "output_type": "execute_result"
    }
   ],
   "source": [
    "x0 = 500\n",
    "maxi = minimize(function , x0 , jac = y_prime)\n",
    "y_prime(maxi[\"x\"])"
   ]
  },
  {
   "cell_type": "code",
   "execution_count": 110,
   "id": "e0b16283",
   "metadata": {},
   "outputs": [],
   "source": [
    "y_prime = sp.diff(y , x)\n"
   ]
  },
  {
   "cell_type": "code",
   "execution_count": 111,
   "id": "668bc7e9",
   "metadata": {},
   "outputs": [
    {
     "data": {
      "text/latex": [
       "$\\displaystyle - 4 x^{3} - 6 x^{2} - 6 x - 2$"
      ],
      "text/plain": [
       "-4*x**3 - 6*x**2 - 6*x - 2"
      ]
     },
     "execution_count": 111,
     "metadata": {},
     "output_type": "execute_result"
    }
   ],
   "source": [
    "y_prime"
   ]
  },
  {
   "cell_type": "code",
   "execution_count": null,
   "id": "5a226190",
   "metadata": {},
   "outputs": [],
   "source": []
  }
 ],
 "metadata": {
  "kernelspec": {
   "display_name": "Python 3 (ipykernel)",
   "language": "python",
   "name": "python3"
  },
  "language_info": {
   "codemirror_mode": {
    "name": "ipython",
    "version": 3
   },
   "file_extension": ".py",
   "mimetype": "text/x-python",
   "name": "python",
   "nbconvert_exporter": "python",
   "pygments_lexer": "ipython3",
   "version": "3.9.0"
  }
 },
 "nbformat": 4,
 "nbformat_minor": 5
}
